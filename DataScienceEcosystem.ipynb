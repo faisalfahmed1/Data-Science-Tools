{
 "cells": [
  {
   "cell_type": "markdown",
   "id": "acb8b5bb-483f-40ba-be53-aac2e09fe28d",
   "metadata": {},
   "source": [
    "# Data Science Tools and Ecosystem"
   ]
  },
  {
   "cell_type": "markdown",
   "id": "a371e4b3-6abb-4c67-9cfc-56a76b57f9b6",
   "metadata": {},
   "source": [
    "In this notebook, Data Science Tools and Ecosystem are summarized."
   ]
  },
  {
   "cell_type": "markdown",
   "id": "d5435c0f-84ee-4f4f-ad1b-29ca73594369",
   "metadata": {},
   "source": [
    "**Objectives:**\n",
    "- List of popular language for Data Science.\n",
    "- Data Science Tools\n",
    "- Using python to evaluate arithmetic expressions.\n",
    "## Author\n",
    "Faisal Ahmed"
   ]
  },
  {
   "cell_type": "markdown",
   "id": "7e3acdc9-2c0a-431c-9c14-d5d3eea9dee1",
   "metadata": {},
   "source": [
    "Some of the popular languages that Data Scientists use are:\n",
    "1. Python\n",
    "2. R\n",
    "3. Java Script\n",
    "4. SQL"
   ]
  },
  {
   "cell_type": "markdown",
   "id": "028ea9cc-5c2d-445b-965f-e031510aba6c",
   "metadata": {},
   "source": [
    "Some of the popular libraries that Data Scientists use are:\n",
    "1. NumPy\n",
    "2. Matplotlib\n",
    "3. TensorFlow\n"
   ]
  },
  {
   "cell_type": "markdown",
   "id": "275746b6-30ca-4bbf-924e-06d0fafe9023",
   "metadata": {},
   "source": [
    "|Data Science Tools|\n",
    "|:----------------:|\n",
    "|Rstudio|\n",
    "|Jupyter Notebooks|\n",
    "|Visual Studio Code|"
   ]
  },
  {
   "cell_type": "markdown",
   "id": "1622cae4-24a6-4877-bbbf-d614f35e38e9",
   "metadata": {},
   "source": [
    "### Below are a few examples of evaluating arithmetic expressions in python."
   ]
  },
  {
   "cell_type": "code",
   "execution_count": 8,
   "id": "0ab98581-d83f-42b7-9a70-c396185a380a",
   "metadata": {},
   "outputs": [
    {
     "data": {
      "text/plain": [
       "17"
      ]
     },
     "execution_count": 8,
     "metadata": {},
     "output_type": "execute_result"
    }
   ],
   "source": [
    "#This is a simple arithmetic expression to multiply then add integers.\n",
    "(3*4)+5"
   ]
  },
  {
   "cell_type": "code",
   "execution_count": 19,
   "id": "1b7f6bcc-114d-40b6-a423-a66a37b2e0ff",
   "metadata": {},
   "outputs": [
    {
     "data": {
      "text/plain": [
       "3.3333333333333335"
      ]
     },
     "execution_count": 19,
     "metadata": {},
     "output_type": "execute_result"
    }
   ],
   "source": [
    "#This will convert 200 minutes to hours by dividing by 60\n",
    "200/60"
   ]
  },
  {
   "cell_type": "code",
   "execution_count": null,
   "id": "4b87c721-8229-4c2c-811d-a85faf77c9a7",
   "metadata": {},
   "outputs": [],
   "source": []
  }
 ],
 "metadata": {
  "kernelspec": {
   "display_name": "Python 3 (ipykernel)",
   "language": "python",
   "name": "python3"
  },
  "language_info": {
   "codemirror_mode": {
    "name": "ipython",
    "version": 3
   },
   "file_extension": ".py",
   "mimetype": "text/x-python",
   "name": "python",
   "nbconvert_exporter": "python",
   "pygments_lexer": "ipython3",
   "version": "3.12.7"
  }
 },
 "nbformat": 4,
 "nbformat_minor": 5
}
